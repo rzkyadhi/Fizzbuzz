{
  "nbformat": 4,
  "nbformat_minor": 0,
  "metadata": {
    "colab": {
      "name": "fizzbuzz.ipynb",
      "provenance": [],
      "authorship_tag": "ABX9TyODS9KgIkVdLYV32fdG2SUD",
      "include_colab_link": true
    },
    "kernelspec": {
      "name": "python3",
      "display_name": "Python 3"
    }
  },
  "cells": [
    {
      "cell_type": "markdown",
      "metadata": {
        "id": "view-in-github",
        "colab_type": "text"
      },
      "source": [
        "<a href=\"https://colab.research.google.com/github/HabibBK/Fizz_Buzz_Bangkit/blob/main/fizzbuzz_day1.ipynb\" target=\"_parent\"><img src=\"https://colab.research.google.com/assets/colab-badge.svg\" alt=\"Open In Colab\"/></a>"
      ]
    },
    {
      "cell_type": "code",
      "metadata": {
        "colab": {
          "base_uri": "https://localhost:8080/"
        },
        "id": "7c4xjB1F4ZGa",
        "outputId": "43754b7a-ee3c-47b3-9bb1-e7bd2ebdc831"
      },
      "source": [
        "print('FizzBuzz Game')\r\n",
        "print(\"1\")\r\n",
        "print(\"2\")\r\n",
        "print(\"Fizz\")\r\n",
        "print(\"4\")\r\n",
        "print(\"Buzz\")\r\n",
        "print(\"Fizz\")\r\n",
        "print(\"7\")\r\n",
        "print(\"8\")\r\n",
        "print(\"Fizz\")\r\n",
        "print(\"Buzz\")\r\n",
        "print(\"11\")\r\n",
        "print(\"Fizz\")\r\n",
        "print(\"13\")\r\n",
        "print(\"14\")\r\n",
        "print(\"FizzBuzz\")\r\n",
        "print(\"16\")\r\n",
        "print(\"17\")\r\n",
        "print(\"Fizz\")\r\n",
        "print(\"19\")\r\n",
        "print(\"Buzz\")\r\n",
        "print(\"Fizz\")\r\n",
        "print(\"22\")\r\n",
        "print(\"23\")\r\n",
        "print(\"Fizz\")\r\n",
        "print(\"Buzz\")\r\n",
        "print(\"26\")\r\n",
        "print(\"Fizz\")\r\n",
        "print(\"28\")\r\n",
        "print(\"29\")\r\n",
        "print(\"FizzBuzz\")"
      ],
      "execution_count": 2,
      "outputs": [
        {
          "output_type": "stream",
          "text": [
            "FizzBuzz Game\n",
            "1\n",
            "2\n",
            "Fizz\n",
            "4\n",
            "Buzz\n",
            "Fizz\n",
            "7\n",
            "8\n",
            "Fizz\n",
            "Buzz\n",
            "11\n",
            "Fizz\n",
            "13\n",
            "14\n",
            "FizzBuzz\n",
            "16\n",
            "17\n",
            "Fizz\n",
            "19\n",
            "Buzz\n",
            "Fizz\n",
            "22\n",
            "23\n",
            "Fizz\n",
            "Buzz\n",
            "26\n",
            "Fizz\n",
            "28\n",
            "29\n",
            "FizzBuzz\n"
          ],
          "name": "stdout"
        }
      ]
    }
  ]
}